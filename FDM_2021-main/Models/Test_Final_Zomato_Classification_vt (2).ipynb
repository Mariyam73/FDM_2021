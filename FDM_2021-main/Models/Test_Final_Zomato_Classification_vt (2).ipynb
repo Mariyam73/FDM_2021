{
  "nbformat": 4,
  "nbformat_minor": 2,
  "metadata": {
    "colab": {
      "name": "Test_Final_Zomato_Classification.ipynb",
      "provenance": [],
      "collapsed_sections": [],
      "toc_visible": true
    },
    "kernelspec": {
      "name": "python3",
      "display_name": "Python 3.7.11 64-bit ('venev': conda)"
    },
    "language_info": {
      "name": "python",
      "version": "3.7.11",
      "mimetype": "text/x-python",
      "codemirror_mode": {
        "name": "ipython",
        "version": 3
      },
      "pygments_lexer": "ipython3",
      "nbconvert_exporter": "python",
      "file_extension": ".py"
    },
    "interpreter": {
      "hash": "f554b17d7accf2d96358c86f41911dd5a9bbdb5ce0f4d9e500b6987bea7c61c5"
    }
  },
  "cells": [
    {
      "cell_type": "code",
      "execution_count": 1,
      "source": [
        "#import os\r\n",
        "import pandas as pd\r\n",
        "import numpy as np\r\n",
        "from sklearn.model_selection import train_test_split, GridSearchCV\r\n",
        "from sklearn.compose import ColumnTransformer\r\n",
        "from sklearn.pipeline import Pipeline\r\n",
        "from sklearn import metrics \r\n",
        "import plotly.offline as py\r\n",
        "py.init_notebook_mode(connected=True)\r\n",
        "from sklearn.impute import SimpleImputer\r\n",
        "from sklearn.preprocessing import StandardScaler, OneHotEncoder\r\n",
        "from sklearn.tree import DecisionTreeClassifier\r\n",
        "from sklearn.ensemble import RandomForestClassifier\r\n",
        "from sklearn.ensemble import ExtraTreesClassifier\r\n",
        "from sklearn.model_selection import RepeatedStratifiedKFold\r\n",
        "from xgboost import XGBClassifier\r\n",
        "from sklearn.metrics import accuracy_score, cohen_kappa_score, classification_report\r\n",
        "import matplotlib\r\n",
        "import plotly.graph_objs as go\r\n",
        "import plotly.express as px\r\n",
        "import seaborn as sns\r\n",
        "import matplotlib.gridspec as gridspec\r\n",
        "from matplotlib import pyplot as plt\r\n",
        "%matplotlib inline\r\n"
      ],
      "outputs": [
        {
          "output_type": "display_data",
          "data": {
            "text/html": [
              "        <script type=\"text/javascript\">\n",
              "        window.PlotlyConfig = {MathJaxConfig: 'local'};\n",
              "        if (window.MathJax) {MathJax.Hub.Config({SVG: {font: \"STIX-Web\"}});}\n",
              "        if (typeof require !== 'undefined') {\n",
              "        require.undef(\"plotly\");\n",
              "        requirejs.config({\n",
              "            paths: {\n",
              "                'plotly': ['https://cdn.plot.ly/plotly-2.4.2.min']\n",
              "            }\n",
              "        });\n",
              "        require(['plotly'], function(Plotly) {\n",
              "            window._Plotly = Plotly;\n",
              "        });\n",
              "        }\n",
              "        </script>\n",
              "        "
            ]
          },
          "metadata": {}
        }
      ],
      "metadata": {
        "id": "gS93kvj9WpvB",
        "colab": {
          "base_uri": "https://localhost:8080/",
          "height": 17
        },
        "outputId": "744c654a-6a39-498e-cd34-aa35ecf1ca3c"
      }
    },
    {
      "cell_type": "code",
      "execution_count": 2,
      "source": [
        "#Import train data\r\n",
        "data = pd.read_csv('zomato.csv')"
      ],
      "outputs": [],
      "metadata": {
        "colab": {
          "base_uri": "https://localhost:8080/",
          "height": 608
        },
        "id": "jGVwAHZhXGMG",
        "outputId": "f79e4f3c-3bb3-4167-fb52-4fa03d892b3b"
      }
    },
    {
      "cell_type": "code",
      "execution_count": 3,
      "source": [
        "data = pd.DataFrame(data)\r\n",
        "#Glimpse of the train data\r\n",
        "data.head()"
      ],
      "outputs": [
        {
          "output_type": "execute_result",
          "data": {
            "text/html": [
              "<div>\n",
              "<style scoped>\n",
              "    .dataframe tbody tr th:only-of-type {\n",
              "        vertical-align: middle;\n",
              "    }\n",
              "\n",
              "    .dataframe tbody tr th {\n",
              "        vertical-align: top;\n",
              "    }\n",
              "\n",
              "    .dataframe thead th {\n",
              "        text-align: right;\n",
              "    }\n",
              "</style>\n",
              "<table border=\"1\" class=\"dataframe\">\n",
              "  <thead>\n",
              "    <tr style=\"text-align: right;\">\n",
              "      <th></th>\n",
              "      <th>url</th>\n",
              "      <th>address</th>\n",
              "      <th>name</th>\n",
              "      <th>online_order</th>\n",
              "      <th>book_table</th>\n",
              "      <th>rate</th>\n",
              "      <th>votes</th>\n",
              "      <th>phone</th>\n",
              "      <th>location</th>\n",
              "      <th>rest_type</th>\n",
              "      <th>dish_liked</th>\n",
              "      <th>cuisines</th>\n",
              "      <th>approx_cost(for two people)</th>\n",
              "      <th>reviews_list</th>\n",
              "      <th>menu_item</th>\n",
              "      <th>listed_in(type)</th>\n",
              "      <th>listed_in(city)</th>\n",
              "    </tr>\n",
              "  </thead>\n",
              "  <tbody>\n",
              "    <tr>\n",
              "      <th>0</th>\n",
              "      <td>https://www.zomato.com/bangalore/jalsa-banasha...</td>\n",
              "      <td>942, 21st Main Road, 2nd Stage, Banashankari, ...</td>\n",
              "      <td>Jalsa</td>\n",
              "      <td>Yes</td>\n",
              "      <td>Yes</td>\n",
              "      <td>4.1/5</td>\n",
              "      <td>775</td>\n",
              "      <td>080 42297555\\r\\n+91 9743772233</td>\n",
              "      <td>Banashankari</td>\n",
              "      <td>Casual Dining</td>\n",
              "      <td>Pasta, Lunch Buffet, Masala Papad, Paneer Laja...</td>\n",
              "      <td>North Indian, Mughlai, Chinese</td>\n",
              "      <td>800</td>\n",
              "      <td>[('Rated 4.0', 'RATED\\n  A beautiful place to ...</td>\n",
              "      <td>[]</td>\n",
              "      <td>Buffet</td>\n",
              "      <td>Banashankari</td>\n",
              "    </tr>\n",
              "    <tr>\n",
              "      <th>1</th>\n",
              "      <td>https://www.zomato.com/bangalore/spice-elephan...</td>\n",
              "      <td>2nd Floor, 80 Feet Road, Near Big Bazaar, 6th ...</td>\n",
              "      <td>Spice Elephant</td>\n",
              "      <td>Yes</td>\n",
              "      <td>No</td>\n",
              "      <td>4.1/5</td>\n",
              "      <td>787</td>\n",
              "      <td>080 41714161</td>\n",
              "      <td>Banashankari</td>\n",
              "      <td>Casual Dining</td>\n",
              "      <td>Momos, Lunch Buffet, Chocolate Nirvana, Thai G...</td>\n",
              "      <td>Chinese, North Indian, Thai</td>\n",
              "      <td>800</td>\n",
              "      <td>[('Rated 4.0', 'RATED\\n  Had been here for din...</td>\n",
              "      <td>[]</td>\n",
              "      <td>Buffet</td>\n",
              "      <td>Banashankari</td>\n",
              "    </tr>\n",
              "    <tr>\n",
              "      <th>2</th>\n",
              "      <td>https://www.zomato.com/SanchurroBangalore?cont...</td>\n",
              "      <td>1112, Next to KIMS Medical College, 17th Cross...</td>\n",
              "      <td>San Churro Cafe</td>\n",
              "      <td>Yes</td>\n",
              "      <td>No</td>\n",
              "      <td>3.8/5</td>\n",
              "      <td>918</td>\n",
              "      <td>+91 9663487993</td>\n",
              "      <td>Banashankari</td>\n",
              "      <td>Cafe, Casual Dining</td>\n",
              "      <td>Churros, Cannelloni, Minestrone Soup, Hot Choc...</td>\n",
              "      <td>Cafe, Mexican, Italian</td>\n",
              "      <td>800</td>\n",
              "      <td>[('Rated 3.0', \"RATED\\n  Ambience is not that ...</td>\n",
              "      <td>[]</td>\n",
              "      <td>Buffet</td>\n",
              "      <td>Banashankari</td>\n",
              "    </tr>\n",
              "    <tr>\n",
              "      <th>3</th>\n",
              "      <td>https://www.zomato.com/bangalore/addhuri-udupi...</td>\n",
              "      <td>1st Floor, Annakuteera, 3rd Stage, Banashankar...</td>\n",
              "      <td>Addhuri Udupi Bhojana</td>\n",
              "      <td>No</td>\n",
              "      <td>No</td>\n",
              "      <td>3.7/5</td>\n",
              "      <td>88</td>\n",
              "      <td>+91 9620009302</td>\n",
              "      <td>Banashankari</td>\n",
              "      <td>Quick Bites</td>\n",
              "      <td>Masala Dosa</td>\n",
              "      <td>South Indian, North Indian</td>\n",
              "      <td>300</td>\n",
              "      <td>[('Rated 4.0', \"RATED\\n  Great food and proper...</td>\n",
              "      <td>[]</td>\n",
              "      <td>Buffet</td>\n",
              "      <td>Banashankari</td>\n",
              "    </tr>\n",
              "    <tr>\n",
              "      <th>4</th>\n",
              "      <td>https://www.zomato.com/bangalore/grand-village...</td>\n",
              "      <td>10, 3rd Floor, Lakshmi Associates, Gandhi Baza...</td>\n",
              "      <td>Grand Village</td>\n",
              "      <td>No</td>\n",
              "      <td>No</td>\n",
              "      <td>3.8/5</td>\n",
              "      <td>166</td>\n",
              "      <td>+91 8026612447\\r\\n+91 9901210005</td>\n",
              "      <td>Basavanagudi</td>\n",
              "      <td>Casual Dining</td>\n",
              "      <td>Panipuri, Gol Gappe</td>\n",
              "      <td>North Indian, Rajasthani</td>\n",
              "      <td>600</td>\n",
              "      <td>[('Rated 4.0', 'RATED\\n  Very good restaurant ...</td>\n",
              "      <td>[]</td>\n",
              "      <td>Buffet</td>\n",
              "      <td>Banashankari</td>\n",
              "    </tr>\n",
              "  </tbody>\n",
              "</table>\n",
              "</div>"
            ],
            "text/plain": [
              "                                                 url  \\\n",
              "0  https://www.zomato.com/bangalore/jalsa-banasha...   \n",
              "1  https://www.zomato.com/bangalore/spice-elephan...   \n",
              "2  https://www.zomato.com/SanchurroBangalore?cont...   \n",
              "3  https://www.zomato.com/bangalore/addhuri-udupi...   \n",
              "4  https://www.zomato.com/bangalore/grand-village...   \n",
              "\n",
              "                                             address                   name  \\\n",
              "0  942, 21st Main Road, 2nd Stage, Banashankari, ...                  Jalsa   \n",
              "1  2nd Floor, 80 Feet Road, Near Big Bazaar, 6th ...         Spice Elephant   \n",
              "2  1112, Next to KIMS Medical College, 17th Cross...        San Churro Cafe   \n",
              "3  1st Floor, Annakuteera, 3rd Stage, Banashankar...  Addhuri Udupi Bhojana   \n",
              "4  10, 3rd Floor, Lakshmi Associates, Gandhi Baza...          Grand Village   \n",
              "\n",
              "  online_order book_table   rate  votes                             phone  \\\n",
              "0          Yes        Yes  4.1/5    775    080 42297555\\r\\n+91 9743772233   \n",
              "1          Yes         No  4.1/5    787                      080 41714161   \n",
              "2          Yes         No  3.8/5    918                    +91 9663487993   \n",
              "3           No         No  3.7/5     88                    +91 9620009302   \n",
              "4           No         No  3.8/5    166  +91 8026612447\\r\\n+91 9901210005   \n",
              "\n",
              "       location            rest_type  \\\n",
              "0  Banashankari        Casual Dining   \n",
              "1  Banashankari        Casual Dining   \n",
              "2  Banashankari  Cafe, Casual Dining   \n",
              "3  Banashankari          Quick Bites   \n",
              "4  Basavanagudi        Casual Dining   \n",
              "\n",
              "                                          dish_liked  \\\n",
              "0  Pasta, Lunch Buffet, Masala Papad, Paneer Laja...   \n",
              "1  Momos, Lunch Buffet, Chocolate Nirvana, Thai G...   \n",
              "2  Churros, Cannelloni, Minestrone Soup, Hot Choc...   \n",
              "3                                        Masala Dosa   \n",
              "4                                Panipuri, Gol Gappe   \n",
              "\n",
              "                         cuisines approx_cost(for two people)  \\\n",
              "0  North Indian, Mughlai, Chinese                         800   \n",
              "1     Chinese, North Indian, Thai                         800   \n",
              "2          Cafe, Mexican, Italian                         800   \n",
              "3      South Indian, North Indian                         300   \n",
              "4        North Indian, Rajasthani                         600   \n",
              "\n",
              "                                        reviews_list menu_item  \\\n",
              "0  [('Rated 4.0', 'RATED\\n  A beautiful place to ...        []   \n",
              "1  [('Rated 4.0', 'RATED\\n  Had been here for din...        []   \n",
              "2  [('Rated 3.0', \"RATED\\n  Ambience is not that ...        []   \n",
              "3  [('Rated 4.0', \"RATED\\n  Great food and proper...        []   \n",
              "4  [('Rated 4.0', 'RATED\\n  Very good restaurant ...        []   \n",
              "\n",
              "  listed_in(type) listed_in(city)  \n",
              "0          Buffet    Banashankari  \n",
              "1          Buffet    Banashankari  \n",
              "2          Buffet    Banashankari  \n",
              "3          Buffet    Banashankari  \n",
              "4          Buffet    Banashankari  "
            ]
          },
          "metadata": {},
          "execution_count": 3
        }
      ],
      "metadata": {}
    },
    {
      "cell_type": "code",
      "execution_count": 4,
      "source": [
        "#!pip install numpy==1.16.5 --user"
      ],
      "outputs": [],
      "metadata": {}
    },
    {
      "cell_type": "code",
      "execution_count": 5,
      "source": [
        "data.info()"
      ],
      "outputs": [
        {
          "output_type": "stream",
          "name": "stdout",
          "text": [
            "<class 'pandas.core.frame.DataFrame'>\n",
            "RangeIndex: 51717 entries, 0 to 51716\n",
            "Data columns (total 17 columns):\n",
            "url                            51717 non-null object\n",
            "address                        51717 non-null object\n",
            "name                           51717 non-null object\n",
            "online_order                   51717 non-null object\n",
            "book_table                     51717 non-null object\n",
            "rate                           43942 non-null object\n",
            "votes                          51717 non-null int64\n",
            "phone                          50509 non-null object\n",
            "location                       51696 non-null object\n",
            "rest_type                      51490 non-null object\n",
            "dish_liked                     23639 non-null object\n",
            "cuisines                       51672 non-null object\n",
            "approx_cost(for two people)    51371 non-null object\n",
            "reviews_list                   51717 non-null object\n",
            "menu_item                      51717 non-null object\n",
            "listed_in(type)                51717 non-null object\n",
            "listed_in(city)                51717 non-null object\n",
            "dtypes: int64(1), object(16)\n",
            "memory usage: 6.7+ MB\n"
          ]
        }
      ],
      "metadata": {
        "colab": {
          "base_uri": "https://localhost:8080/"
        },
        "id": "mmwyUty1if9D",
        "outputId": "ab28ceba-fd08-47ad-df48-027dac5d41b2"
      }
    },
    {
      "cell_type": "code",
      "execution_count": 6,
      "source": [
        "data.isna().sum() #Checking null values"
      ],
      "outputs": [
        {
          "output_type": "execute_result",
          "data": {
            "text/plain": [
              "url                                0\n",
              "address                            0\n",
              "name                               0\n",
              "online_order                       0\n",
              "book_table                         0\n",
              "rate                            7775\n",
              "votes                              0\n",
              "phone                           1208\n",
              "location                          21\n",
              "rest_type                        227\n",
              "dish_liked                     28078\n",
              "cuisines                          45\n",
              "approx_cost(for two people)      346\n",
              "reviews_list                       0\n",
              "menu_item                          0\n",
              "listed_in(type)                    0\n",
              "listed_in(city)                    0\n",
              "dtype: int64"
            ]
          },
          "metadata": {},
          "execution_count": 6
        }
      ],
      "metadata": {
        "colab": {
          "base_uri": "https://localhost:8080/"
        },
        "id": "d7-vtkN9FQUW",
        "outputId": "1296d244-00f9-4474-db26-28c919744356"
      }
    },
    {
      "cell_type": "code",
      "execution_count": 7,
      "source": [
        "pd.DataFrame(round(data.isnull().sum()/data.shape[0] * 100,3), columns = ['Missing'])"
      ],
      "outputs": [
        {
          "output_type": "execute_result",
          "data": {
            "text/html": [
              "<div>\n",
              "<style scoped>\n",
              "    .dataframe tbody tr th:only-of-type {\n",
              "        vertical-align: middle;\n",
              "    }\n",
              "\n",
              "    .dataframe tbody tr th {\n",
              "        vertical-align: top;\n",
              "    }\n",
              "\n",
              "    .dataframe thead th {\n",
              "        text-align: right;\n",
              "    }\n",
              "</style>\n",
              "<table border=\"1\" class=\"dataframe\">\n",
              "  <thead>\n",
              "    <tr style=\"text-align: right;\">\n",
              "      <th></th>\n",
              "      <th>Missing</th>\n",
              "    </tr>\n",
              "  </thead>\n",
              "  <tbody>\n",
              "    <tr>\n",
              "      <th>url</th>\n",
              "      <td>0.000</td>\n",
              "    </tr>\n",
              "    <tr>\n",
              "      <th>address</th>\n",
              "      <td>0.000</td>\n",
              "    </tr>\n",
              "    <tr>\n",
              "      <th>name</th>\n",
              "      <td>0.000</td>\n",
              "    </tr>\n",
              "    <tr>\n",
              "      <th>online_order</th>\n",
              "      <td>0.000</td>\n",
              "    </tr>\n",
              "    <tr>\n",
              "      <th>book_table</th>\n",
              "      <td>0.000</td>\n",
              "    </tr>\n",
              "    <tr>\n",
              "      <th>rate</th>\n",
              "      <td>15.034</td>\n",
              "    </tr>\n",
              "    <tr>\n",
              "      <th>votes</th>\n",
              "      <td>0.000</td>\n",
              "    </tr>\n",
              "    <tr>\n",
              "      <th>phone</th>\n",
              "      <td>2.336</td>\n",
              "    </tr>\n",
              "    <tr>\n",
              "      <th>location</th>\n",
              "      <td>0.041</td>\n",
              "    </tr>\n",
              "    <tr>\n",
              "      <th>rest_type</th>\n",
              "      <td>0.439</td>\n",
              "    </tr>\n",
              "    <tr>\n",
              "      <th>dish_liked</th>\n",
              "      <td>54.292</td>\n",
              "    </tr>\n",
              "    <tr>\n",
              "      <th>cuisines</th>\n",
              "      <td>0.087</td>\n",
              "    </tr>\n",
              "    <tr>\n",
              "      <th>approx_cost(for two people)</th>\n",
              "      <td>0.669</td>\n",
              "    </tr>\n",
              "    <tr>\n",
              "      <th>reviews_list</th>\n",
              "      <td>0.000</td>\n",
              "    </tr>\n",
              "    <tr>\n",
              "      <th>menu_item</th>\n",
              "      <td>0.000</td>\n",
              "    </tr>\n",
              "    <tr>\n",
              "      <th>listed_in(type)</th>\n",
              "      <td>0.000</td>\n",
              "    </tr>\n",
              "    <tr>\n",
              "      <th>listed_in(city)</th>\n",
              "      <td>0.000</td>\n",
              "    </tr>\n",
              "  </tbody>\n",
              "</table>\n",
              "</div>"
            ],
            "text/plain": [
              "                             Missing\n",
              "url                            0.000\n",
              "address                        0.000\n",
              "name                           0.000\n",
              "online_order                   0.000\n",
              "book_table                     0.000\n",
              "rate                          15.034\n",
              "votes                          0.000\n",
              "phone                          2.336\n",
              "location                       0.041\n",
              "rest_type                      0.439\n",
              "dish_liked                    54.292\n",
              "cuisines                       0.087\n",
              "approx_cost(for two people)    0.669\n",
              "reviews_list                   0.000\n",
              "menu_item                      0.000\n",
              "listed_in(type)                0.000\n",
              "listed_in(city)                0.000"
            ]
          },
          "metadata": {},
          "execution_count": 7
        }
      ],
      "metadata": {
        "colab": {
          "base_uri": "https://localhost:8080/",
          "height": 582
        },
        "id": "kfTc8MIVilQj",
        "outputId": "8dab8267-d240-4ec2-f168-31ae3567dd4a"
      }
    },
    {
      "cell_type": "code",
      "execution_count": 8,
      "source": [
        "# These columns are droped as there is no clear relationship between these two columns\r\n",
        "data.drop(columns = ['url', 'address', 'phone', 'name', 'reviews_list'], inplace = True)"
      ],
      "outputs": [],
      "metadata": {
        "id": "WqC5KUn9iqFk"
      }
    },
    {
      "cell_type": "code",
      "execution_count": 9,
      "source": [
        "data.duplicated().sum()"
      ],
      "outputs": [
        {
          "output_type": "execute_result",
          "data": {
            "text/plain": [
              "332"
            ]
          },
          "metadata": {},
          "execution_count": 9
        }
      ],
      "metadata": {
        "colab": {
          "base_uri": "https://localhost:8080/"
        },
        "id": "myFSPphVFDFf",
        "outputId": "5484ee2b-5325-4bc8-f811-1907635c255e"
      }
    },
    {
      "cell_type": "code",
      "execution_count": 10,
      "source": [
        "data.drop_duplicates(inplace=True)"
      ],
      "outputs": [],
      "metadata": {
        "id": "jWA7GwmAFfME"
      }
    },
    {
      "cell_type": "code",
      "execution_count": 11,
      "source": [
        "data.columns"
      ],
      "outputs": [
        {
          "output_type": "execute_result",
          "data": {
            "text/plain": [
              "Index(['online_order', 'book_table', 'rate', 'votes', 'location', 'rest_type',\n",
              "       'dish_liked', 'cuisines', 'approx_cost(for two people)', 'menu_item',\n",
              "       'listed_in(type)', 'listed_in(city)'],\n",
              "      dtype='object')"
            ]
          },
          "metadata": {},
          "execution_count": 11
        }
      ],
      "metadata": {
        "colab": {
          "base_uri": "https://localhost:8080/"
        },
        "id": "Rp0ko_83i2uF",
        "outputId": "0c5a1d07-3010-4f64-88a2-42124e6e872f"
      }
    },
    {
      "cell_type": "markdown",
      "source": [
        "### Data Cleaning"
      ],
      "metadata": {
        "id": "mwtbA-A5vcx5"
      }
    },
    {
      "cell_type": "code",
      "execution_count": 12,
      "source": [
        "# Renaming and removing commas in the cost column \r\n",
        "data = data.rename({\"approx_cost(for two people)\": \"cost_two\"}, axis=1)\r\n",
        "data[\"cost_two\"] = data[\"cost_two\"].replace(\",\", \"\", regex = True)"
      ],
      "outputs": [],
      "metadata": {
        "id": "kP81ZuH8UM1O"
      }
    },
    {
      "cell_type": "code",
      "execution_count": 13,
      "source": [
        "data.cost_two.unique()"
      ],
      "outputs": [
        {
          "output_type": "execute_result",
          "data": {
            "text/plain": [
              "array(['800', '300', '600', '700', '550', '500', '450', '650', '400',\n",
              "       '900', '200', '750', '150', '850', '100', '1200', '350', '250',\n",
              "       '950', '1000', '1500', '1300', '199', '80', '1100', '160', '1600',\n",
              "       '230', '130', '50', '190', '1700', nan, '1400', '180', '1350',\n",
              "       '2200', '2000', '1800', '1900', '330', '2500', '2100', '3000',\n",
              "       '2800', '3400', '40', '1250', '3500', '4000', '2400', '2600',\n",
              "       '120', '1450', '469', '70', '3200', '60', '560', '240', '360',\n",
              "       '6000', '1050', '2300', '4100', '5000', '3700', '1650', '2700',\n",
              "       '4500', '140'], dtype=object)"
            ]
          },
          "metadata": {},
          "execution_count": 13
        }
      ],
      "metadata": {}
    },
    {
      "cell_type": "code",
      "execution_count": 14,
      "source": [
        "data['cost_two'].replace(np.nan, 0, inplace=True)"
      ],
      "outputs": [],
      "metadata": {
        "colab": {
          "base_uri": "https://localhost:8080/"
        },
        "id": "0Dfm3QkvVNS2",
        "outputId": "10958f45-094c-4ae3-dc45-15bc953f90d3"
      }
    },
    {
      "cell_type": "code",
      "execution_count": 15,
      "source": [
        "# Converting numeric columns to their appropriate dtypes\r\n",
        "data[[\"cost_two\"]] = data[[\"cost_two\"]].apply(pd.to_numeric)"
      ],
      "outputs": [],
      "metadata": {
        "id": "GV-UmOIhve6x"
      }
    },
    {
      "cell_type": "code",
      "execution_count": 16,
      "source": [
        "data.rate.unique()"
      ],
      "outputs": [
        {
          "output_type": "execute_result",
          "data": {
            "text/plain": [
              "array(['4.1/5', '3.8/5', '3.7/5', '3.6/5', '4.6/5', '4.0/5', '4.2/5',\n",
              "       '3.9/5', '3.1/5', '3.0/5', '3.2/5', '3.3/5', '2.8/5', '4.4/5',\n",
              "       '4.3/5', 'NEW', '2.9/5', '3.5/5', nan, '2.6/5', '3.8 /5', '3.4/5',\n",
              "       '4.5/5', '2.5/5', '2.7/5', '4.7/5', '2.4/5', '2.2/5', '2.3/5',\n",
              "       '3.4 /5', '-', '3.6 /5', '4.8/5', '3.9 /5', '4.2 /5', '4.0 /5',\n",
              "       '4.1 /5', '3.7 /5', '3.1 /5', '2.9 /5', '3.3 /5', '2.8 /5',\n",
              "       '3.5 /5', '2.7 /5', '2.5 /5', '3.2 /5', '2.6 /5', '4.5 /5',\n",
              "       '4.3 /5', '4.4 /5', '4.9/5', '2.1/5', '2.0/5', '1.8/5', '4.6 /5',\n",
              "       '4.9 /5', '3.0 /5', '4.8 /5', '2.3 /5', '4.7 /5', '2.4 /5',\n",
              "       '2.1 /5', '2.2 /5', '2.0 /5', '1.8 /5'], dtype=object)"
            ]
          },
          "metadata": {},
          "execution_count": 16
        }
      ],
      "metadata": {
        "colab": {
          "base_uri": "https://localhost:8080/"
        },
        "id": "3BXtMfnpjLAF",
        "outputId": "d8f7757f-280a-45b7-dc69-22ab41fff535"
      }
    },
    {
      "cell_type": "markdown",
      "source": [
        "Replacing the NEW & - value from the rate column into NaN value to convert the object data type to str."
      ],
      "metadata": {
        "id": "jTa5Xi1OjeTu"
      }
    },
    {
      "cell_type": "code",
      "execution_count": 17,
      "source": [
        "data['rate'] = data.rate.replace('NEW', np.NaN)\r\n",
        "data['rate'] = data.rate.replace('-', np.NaN)\r\n",
        "data.rate = data.rate.astype(str)"
      ],
      "outputs": [],
      "metadata": {
        "id": "qkG1lmgqjSPO"
      }
    },
    {
      "cell_type": "code",
      "execution_count": 18,
      "source": [
        "data.rate = data.rate.apply(lambda x : x.replace('/5','')).astype(float)\r\n",
        "data.head()"
      ],
      "outputs": [
        {
          "output_type": "execute_result",
          "data": {
            "text/html": [
              "<div>\n",
              "<style scoped>\n",
              "    .dataframe tbody tr th:only-of-type {\n",
              "        vertical-align: middle;\n",
              "    }\n",
              "\n",
              "    .dataframe tbody tr th {\n",
              "        vertical-align: top;\n",
              "    }\n",
              "\n",
              "    .dataframe thead th {\n",
              "        text-align: right;\n",
              "    }\n",
              "</style>\n",
              "<table border=\"1\" class=\"dataframe\">\n",
              "  <thead>\n",
              "    <tr style=\"text-align: right;\">\n",
              "      <th></th>\n",
              "      <th>online_order</th>\n",
              "      <th>book_table</th>\n",
              "      <th>rate</th>\n",
              "      <th>votes</th>\n",
              "      <th>location</th>\n",
              "      <th>rest_type</th>\n",
              "      <th>dish_liked</th>\n",
              "      <th>cuisines</th>\n",
              "      <th>cost_two</th>\n",
              "      <th>menu_item</th>\n",
              "      <th>listed_in(type)</th>\n",
              "      <th>listed_in(city)</th>\n",
              "    </tr>\n",
              "  </thead>\n",
              "  <tbody>\n",
              "    <tr>\n",
              "      <th>0</th>\n",
              "      <td>Yes</td>\n",
              "      <td>Yes</td>\n",
              "      <td>4.1</td>\n",
              "      <td>775</td>\n",
              "      <td>Banashankari</td>\n",
              "      <td>Casual Dining</td>\n",
              "      <td>Pasta, Lunch Buffet, Masala Papad, Paneer Laja...</td>\n",
              "      <td>North Indian, Mughlai, Chinese</td>\n",
              "      <td>800</td>\n",
              "      <td>[]</td>\n",
              "      <td>Buffet</td>\n",
              "      <td>Banashankari</td>\n",
              "    </tr>\n",
              "    <tr>\n",
              "      <th>1</th>\n",
              "      <td>Yes</td>\n",
              "      <td>No</td>\n",
              "      <td>4.1</td>\n",
              "      <td>787</td>\n",
              "      <td>Banashankari</td>\n",
              "      <td>Casual Dining</td>\n",
              "      <td>Momos, Lunch Buffet, Chocolate Nirvana, Thai G...</td>\n",
              "      <td>Chinese, North Indian, Thai</td>\n",
              "      <td>800</td>\n",
              "      <td>[]</td>\n",
              "      <td>Buffet</td>\n",
              "      <td>Banashankari</td>\n",
              "    </tr>\n",
              "    <tr>\n",
              "      <th>2</th>\n",
              "      <td>Yes</td>\n",
              "      <td>No</td>\n",
              "      <td>3.8</td>\n",
              "      <td>918</td>\n",
              "      <td>Banashankari</td>\n",
              "      <td>Cafe, Casual Dining</td>\n",
              "      <td>Churros, Cannelloni, Minestrone Soup, Hot Choc...</td>\n",
              "      <td>Cafe, Mexican, Italian</td>\n",
              "      <td>800</td>\n",
              "      <td>[]</td>\n",
              "      <td>Buffet</td>\n",
              "      <td>Banashankari</td>\n",
              "    </tr>\n",
              "    <tr>\n",
              "      <th>3</th>\n",
              "      <td>No</td>\n",
              "      <td>No</td>\n",
              "      <td>3.7</td>\n",
              "      <td>88</td>\n",
              "      <td>Banashankari</td>\n",
              "      <td>Quick Bites</td>\n",
              "      <td>Masala Dosa</td>\n",
              "      <td>South Indian, North Indian</td>\n",
              "      <td>300</td>\n",
              "      <td>[]</td>\n",
              "      <td>Buffet</td>\n",
              "      <td>Banashankari</td>\n",
              "    </tr>\n",
              "    <tr>\n",
              "      <th>4</th>\n",
              "      <td>No</td>\n",
              "      <td>No</td>\n",
              "      <td>3.8</td>\n",
              "      <td>166</td>\n",
              "      <td>Basavanagudi</td>\n",
              "      <td>Casual Dining</td>\n",
              "      <td>Panipuri, Gol Gappe</td>\n",
              "      <td>North Indian, Rajasthani</td>\n",
              "      <td>600</td>\n",
              "      <td>[]</td>\n",
              "      <td>Buffet</td>\n",
              "      <td>Banashankari</td>\n",
              "    </tr>\n",
              "  </tbody>\n",
              "</table>\n",
              "</div>"
            ],
            "text/plain": [
              "  online_order book_table  rate  votes      location            rest_type  \\\n",
              "0          Yes        Yes   4.1    775  Banashankari        Casual Dining   \n",
              "1          Yes         No   4.1    787  Banashankari        Casual Dining   \n",
              "2          Yes         No   3.8    918  Banashankari  Cafe, Casual Dining   \n",
              "3           No         No   3.7     88  Banashankari          Quick Bites   \n",
              "4           No         No   3.8    166  Basavanagudi        Casual Dining   \n",
              "\n",
              "                                          dish_liked  \\\n",
              "0  Pasta, Lunch Buffet, Masala Papad, Paneer Laja...   \n",
              "1  Momos, Lunch Buffet, Chocolate Nirvana, Thai G...   \n",
              "2  Churros, Cannelloni, Minestrone Soup, Hot Choc...   \n",
              "3                                        Masala Dosa   \n",
              "4                                Panipuri, Gol Gappe   \n",
              "\n",
              "                         cuisines  cost_two menu_item listed_in(type)  \\\n",
              "0  North Indian, Mughlai, Chinese       800        []          Buffet   \n",
              "1     Chinese, North Indian, Thai       800        []          Buffet   \n",
              "2          Cafe, Mexican, Italian       800        []          Buffet   \n",
              "3      South Indian, North Indian       300        []          Buffet   \n",
              "4        North Indian, Rajasthani       600        []          Buffet   \n",
              "\n",
              "  listed_in(city)  \n",
              "0    Banashankari  \n",
              "1    Banashankari  \n",
              "2    Banashankari  \n",
              "3    Banashankari  \n",
              "4    Banashankari  "
            ]
          },
          "metadata": {},
          "execution_count": 18
        }
      ],
      "metadata": {
        "id": "DDITt9LJjYVH",
        "colab": {
          "base_uri": "https://localhost:8080/",
          "height": 591
        },
        "outputId": "b882de01-5151-475e-97fd-5843cdccbab8"
      }
    },
    {
      "cell_type": "code",
      "execution_count": 19,
      "source": [
        "data = data.dropna(subset=['rate'])"
      ],
      "outputs": [],
      "metadata": {
        "id": "zx_qBOl0nvNy"
      }
    },
    {
      "cell_type": "code",
      "execution_count": 20,
      "source": [
        "#consaverting the rate \r\n",
        "def rate_conversion(rate):\r\n",
        "    newrate = 0\r\n",
        "    if rate <= float(1):\r\n",
        "        newrate = 1\r\n",
        "    elif rate <= float(2):\r\n",
        "        newrate = 2\r\n",
        "    elif rate <= float(3):\r\n",
        "        newrate = 3\r\n",
        "    elif rate <= float(4):\r\n",
        "        newrate = 4\r\n",
        "    elif rate <= float(5):\r\n",
        "        newrate = 5\r\n",
        "    return newrate       "
      ],
      "outputs": [],
      "metadata": {}
    },
    {
      "cell_type": "code",
      "execution_count": 21,
      "source": [
        "data.rate = data.rate.apply(lambda x: rate_conversion(x))\r\n",
        "data.head()"
      ],
      "outputs": [
        {
          "output_type": "execute_result",
          "data": {
            "text/html": [
              "<div>\n",
              "<style scoped>\n",
              "    .dataframe tbody tr th:only-of-type {\n",
              "        vertical-align: middle;\n",
              "    }\n",
              "\n",
              "    .dataframe tbody tr th {\n",
              "        vertical-align: top;\n",
              "    }\n",
              "\n",
              "    .dataframe thead th {\n",
              "        text-align: right;\n",
              "    }\n",
              "</style>\n",
              "<table border=\"1\" class=\"dataframe\">\n",
              "  <thead>\n",
              "    <tr style=\"text-align: right;\">\n",
              "      <th></th>\n",
              "      <th>online_order</th>\n",
              "      <th>book_table</th>\n",
              "      <th>rate</th>\n",
              "      <th>votes</th>\n",
              "      <th>location</th>\n",
              "      <th>rest_type</th>\n",
              "      <th>dish_liked</th>\n",
              "      <th>cuisines</th>\n",
              "      <th>cost_two</th>\n",
              "      <th>menu_item</th>\n",
              "      <th>listed_in(type)</th>\n",
              "      <th>listed_in(city)</th>\n",
              "    </tr>\n",
              "  </thead>\n",
              "  <tbody>\n",
              "    <tr>\n",
              "      <th>0</th>\n",
              "      <td>Yes</td>\n",
              "      <td>Yes</td>\n",
              "      <td>5</td>\n",
              "      <td>775</td>\n",
              "      <td>Banashankari</td>\n",
              "      <td>Casual Dining</td>\n",
              "      <td>Pasta, Lunch Buffet, Masala Papad, Paneer Laja...</td>\n",
              "      <td>North Indian, Mughlai, Chinese</td>\n",
              "      <td>800</td>\n",
              "      <td>[]</td>\n",
              "      <td>Buffet</td>\n",
              "      <td>Banashankari</td>\n",
              "    </tr>\n",
              "    <tr>\n",
              "      <th>1</th>\n",
              "      <td>Yes</td>\n",
              "      <td>No</td>\n",
              "      <td>5</td>\n",
              "      <td>787</td>\n",
              "      <td>Banashankari</td>\n",
              "      <td>Casual Dining</td>\n",
              "      <td>Momos, Lunch Buffet, Chocolate Nirvana, Thai G...</td>\n",
              "      <td>Chinese, North Indian, Thai</td>\n",
              "      <td>800</td>\n",
              "      <td>[]</td>\n",
              "      <td>Buffet</td>\n",
              "      <td>Banashankari</td>\n",
              "    </tr>\n",
              "    <tr>\n",
              "      <th>2</th>\n",
              "      <td>Yes</td>\n",
              "      <td>No</td>\n",
              "      <td>4</td>\n",
              "      <td>918</td>\n",
              "      <td>Banashankari</td>\n",
              "      <td>Cafe, Casual Dining</td>\n",
              "      <td>Churros, Cannelloni, Minestrone Soup, Hot Choc...</td>\n",
              "      <td>Cafe, Mexican, Italian</td>\n",
              "      <td>800</td>\n",
              "      <td>[]</td>\n",
              "      <td>Buffet</td>\n",
              "      <td>Banashankari</td>\n",
              "    </tr>\n",
              "    <tr>\n",
              "      <th>3</th>\n",
              "      <td>No</td>\n",
              "      <td>No</td>\n",
              "      <td>4</td>\n",
              "      <td>88</td>\n",
              "      <td>Banashankari</td>\n",
              "      <td>Quick Bites</td>\n",
              "      <td>Masala Dosa</td>\n",
              "      <td>South Indian, North Indian</td>\n",
              "      <td>300</td>\n",
              "      <td>[]</td>\n",
              "      <td>Buffet</td>\n",
              "      <td>Banashankari</td>\n",
              "    </tr>\n",
              "    <tr>\n",
              "      <th>4</th>\n",
              "      <td>No</td>\n",
              "      <td>No</td>\n",
              "      <td>4</td>\n",
              "      <td>166</td>\n",
              "      <td>Basavanagudi</td>\n",
              "      <td>Casual Dining</td>\n",
              "      <td>Panipuri, Gol Gappe</td>\n",
              "      <td>North Indian, Rajasthani</td>\n",
              "      <td>600</td>\n",
              "      <td>[]</td>\n",
              "      <td>Buffet</td>\n",
              "      <td>Banashankari</td>\n",
              "    </tr>\n",
              "  </tbody>\n",
              "</table>\n",
              "</div>"
            ],
            "text/plain": [
              "  online_order book_table  rate  votes      location            rest_type  \\\n",
              "0          Yes        Yes     5    775  Banashankari        Casual Dining   \n",
              "1          Yes         No     5    787  Banashankari        Casual Dining   \n",
              "2          Yes         No     4    918  Banashankari  Cafe, Casual Dining   \n",
              "3           No         No     4     88  Banashankari          Quick Bites   \n",
              "4           No         No     4    166  Basavanagudi        Casual Dining   \n",
              "\n",
              "                                          dish_liked  \\\n",
              "0  Pasta, Lunch Buffet, Masala Papad, Paneer Laja...   \n",
              "1  Momos, Lunch Buffet, Chocolate Nirvana, Thai G...   \n",
              "2  Churros, Cannelloni, Minestrone Soup, Hot Choc...   \n",
              "3                                        Masala Dosa   \n",
              "4                                Panipuri, Gol Gappe   \n",
              "\n",
              "                         cuisines  cost_two menu_item listed_in(type)  \\\n",
              "0  North Indian, Mughlai, Chinese       800        []          Buffet   \n",
              "1     Chinese, North Indian, Thai       800        []          Buffet   \n",
              "2          Cafe, Mexican, Italian       800        []          Buffet   \n",
              "3      South Indian, North Indian       300        []          Buffet   \n",
              "4        North Indian, Rajasthani       600        []          Buffet   \n",
              "\n",
              "  listed_in(city)  \n",
              "0    Banashankari  \n",
              "1    Banashankari  \n",
              "2    Banashankari  \n",
              "3    Banashankari  \n",
              "4    Banashankari  "
            ]
          },
          "metadata": {},
          "execution_count": 21
        }
      ],
      "metadata": {}
    },
    {
      "cell_type": "code",
      "execution_count": 22,
      "source": [
        "data.rate.unique()"
      ],
      "outputs": [
        {
          "output_type": "execute_result",
          "data": {
            "text/plain": [
              "array([5, 4, 3, 2], dtype=int64)"
            ]
          },
          "metadata": {},
          "execution_count": 22
        }
      ],
      "metadata": {}
    },
    {
      "cell_type": "code",
      "execution_count": 23,
      "source": [
        "count1 = 0\r\n",
        "count2 = 0\r\n",
        "count3 = 0\r\n",
        "count4 = 0\r\n",
        "count5 = 0 \r\n",
        "\r\n",
        "for i in data[\"rate\"]:\r\n",
        "    if i == 1:\r\n",
        "        count1 += 1\r\n",
        "    elif i == 2:\r\n",
        "        count2 += 1\r\n",
        "    elif i == 3:\r\n",
        "        count3 += 1\r\n",
        "    elif i == 4:\r\n",
        "        count4 += 1\r\n",
        "    elif i == 5:\r\n",
        "        count5 += 1\r\n",
        "\r\n",
        "print(str(count1) +\" \"+ str(count2) +\" \"+ str(count3) +\" \"+ str(count4) +\" \"+ str(count5))        "
      ],
      "outputs": [
        {
          "output_type": "stream",
          "name": "stdout",
          "text": [
            "0 16 3261 29134 9192\n"
          ]
        }
      ],
      "metadata": {}
    },
    {
      "cell_type": "markdown",
      "source": [
        "### Data Analysis & Visualization\n"
      ],
      "metadata": {
        "id": "wenWCxwyT1cy"
      }
    },
    {
      "cell_type": "markdown",
      "source": [
        "Checking the count of each rating category present"
      ],
      "metadata": {
        "id": "k-HSZk_djpbB"
      }
    },
    {
      "cell_type": "code",
      "execution_count": 24,
      "source": [
        "#Rate plot before Discretizing \r\n",
        "plt.figure(figsize = (10, 10))\r\n",
        "sns.distplot(data['rate'], color = 'red')"
      ],
      "outputs": [
        {
          "output_type": "stream",
          "name": "stderr",
          "text": [
            "C:\\Users\\Vithyashagar\\AppData\\Roaming\\Python\\Python37\\site-packages\\seaborn\\distributions.py:2557: FutureWarning:\n",
            "\n",
            "`distplot` is a deprecated function and will be removed in a future version. Please adapt your code to use either `displot` (a figure-level function with similar flexibility) or `histplot` (an axes-level function for histograms).\n",
            "\n"
          ]
        },
        {
          "output_type": "execute_result",
          "data": {
            "text/plain": [
              "<AxesSubplot:xlabel='rate', ylabel='Density'>"
            ]
          },
          "metadata": {},
          "execution_count": 24
        },
        {
          "output_type": "display_data",
          "data": {
            "image/png": "[encoded data removed]",
            "text/plain": [
              "<Figure size 720x720 with 1 Axes>"
            ]
          },
          "metadata": {
            "needs_background": "light"
          }
        }
      ],
      "metadata": {
        "id": "s0JkMCUrjsHw",
        "colab": {
          "base_uri": "https://localhost:8080/",
          "height": 713
        },
        "outputId": "5ee4aae3-1e88-44a2-f5e6-df1fff4a9362"
      }
    },
    {
      "cell_type": "markdown",
      "source": [
        "PLotting a joint plot for rate vs votes"
      ],
      "metadata": {
        "id": "f9EIBGItkk1z"
      }
    },
    {
      "cell_type": "markdown",
      "source": [
        "It can be observed that if the restaurant which dont have online order facility are more like to lose the rating as compared to the restuarants which have online order facility"
      ],
      "metadata": {
        "id": "FJNgpZmymGVQ"
      }
    },
    {
      "cell_type": "code",
      "execution_count": 25,
      "source": [
        "data.head(3)"
      ],
      "outputs": [
        {
          "output_type": "execute_result",
          "data": {
            "text/html": [
              "<div>\n",
              "<style scoped>\n",
              "    .dataframe tbody tr th:only-of-type {\n",
              "        vertical-align: middle;\n",
              "    }\n",
              "\n",
              "    .dataframe tbody tr th {\n",
              "        vertical-align: top;\n",
              "    }\n",
              "\n",
              "    .dataframe thead th {\n",
              "        text-align: right;\n",
              "    }\n",
              "</style>\n",
              "<table border=\"1\" class=\"dataframe\">\n",
              "  <thead>\n",
              "    <tr style=\"text-align: right;\">\n",
              "      <th></th>\n",
              "      <th>online_order</th>\n",
              "      <th>book_table</th>\n",
              "      <th>rate</th>\n",
              "      <th>votes</th>\n",
              "      <th>location</th>\n",
              "      <th>rest_type</th>\n",
              "      <th>dish_liked</th>\n",
              "      <th>cuisines</th>\n",
              "      <th>cost_two</th>\n",
              "      <th>menu_item</th>\n",
              "      <th>listed_in(type)</th>\n",
              "      <th>listed_in(city)</th>\n",
              "    </tr>\n",
              "  </thead>\n",
              "  <tbody>\n",
              "    <tr>\n",
              "      <th>0</th>\n",
              "      <td>Yes</td>\n",
              "      <td>Yes</td>\n",
              "      <td>5</td>\n",
              "      <td>775</td>\n",
              "      <td>Banashankari</td>\n",
              "      <td>Casual Dining</td>\n",
              "      <td>Pasta, Lunch Buffet, Masala Papad, Paneer Laja...</td>\n",
              "      <td>North Indian, Mughlai, Chinese</td>\n",
              "      <td>800</td>\n",
              "      <td>[]</td>\n",
              "      <td>Buffet</td>\n",
              "      <td>Banashankari</td>\n",
              "    </tr>\n",
              "    <tr>\n",
              "      <th>1</th>\n",
              "      <td>Yes</td>\n",
              "      <td>No</td>\n",
              "      <td>5</td>\n",
              "      <td>787</td>\n",
              "      <td>Banashankari</td>\n",
              "      <td>Casual Dining</td>\n",
              "      <td>Momos, Lunch Buffet, Chocolate Nirvana, Thai G...</td>\n",
              "      <td>Chinese, North Indian, Thai</td>\n",
              "      <td>800</td>\n",
              "      <td>[]</td>\n",
              "      <td>Buffet</td>\n",
              "      <td>Banashankari</td>\n",
              "    </tr>\n",
              "    <tr>\n",
              "      <th>2</th>\n",
              "      <td>Yes</td>\n",
              "      <td>No</td>\n",
              "      <td>4</td>\n",
              "      <td>918</td>\n",
              "      <td>Banashankari</td>\n",
              "      <td>Cafe, Casual Dining</td>\n",
              "      <td>Churros, Cannelloni, Minestrone Soup, Hot Choc...</td>\n",
              "      <td>Cafe, Mexican, Italian</td>\n",
              "      <td>800</td>\n",
              "      <td>[]</td>\n",
              "      <td>Buffet</td>\n",
              "      <td>Banashankari</td>\n",
              "    </tr>\n",
              "  </tbody>\n",
              "</table>\n",
              "</div>"
            ],
            "text/plain": [
              "  online_order book_table  rate  votes      location            rest_type  \\\n",
              "0          Yes        Yes     5    775  Banashankari        Casual Dining   \n",
              "1          Yes         No     5    787  Banashankari        Casual Dining   \n",
              "2          Yes         No     4    918  Banashankari  Cafe, Casual Dining   \n",
              "\n",
              "                                          dish_liked  \\\n",
              "0  Pasta, Lunch Buffet, Masala Papad, Paneer Laja...   \n",
              "1  Momos, Lunch Buffet, Chocolate Nirvana, Thai G...   \n",
              "2  Churros, Cannelloni, Minestrone Soup, Hot Choc...   \n",
              "\n",
              "                         cuisines  cost_two menu_item listed_in(type)  \\\n",
              "0  North Indian, Mughlai, Chinese       800        []          Buffet   \n",
              "1     Chinese, North Indian, Thai       800        []          Buffet   \n",
              "2          Cafe, Mexican, Italian       800        []          Buffet   \n",
              "\n",
              "  listed_in(city)  \n",
              "0    Banashankari  \n",
              "1    Banashankari  \n",
              "2    Banashankari  "
            ]
          },
          "metadata": {},
          "execution_count": 25
        }
      ],
      "metadata": {
        "id": "V1ln8VwMmXHS",
        "colab": {
          "base_uri": "https://localhost:8080/",
          "height": 424
        },
        "outputId": "465c29e1-d93e-4c4d-a67e-7531e15aa2b6"
      }
    },
    {
      "cell_type": "markdown",
      "source": [
        "### Data pre-processing"
      ],
      "metadata": {
        "id": "IiPWJZoDoh_X"
      }
    },
    {
      "cell_type": "code",
      "execution_count": 26,
      "source": [
        "data = data.dropna()"
      ],
      "outputs": [],
      "metadata": {}
    },
    {
      "cell_type": "code",
      "execution_count": 27,
      "source": [
        "#Dropping unrelated columns for rating\r\n",
        "data = data.drop(['dish_liked', 'menu_item'],axis = 1)\r\n",
        "data.head()"
      ],
      "outputs": [
        {
          "output_type": "execute_result",
          "data": {
            "text/html": [
              "<div>\n",
              "<style scoped>\n",
              "    .dataframe tbody tr th:only-of-type {\n",
              "        vertical-align: middle;\n",
              "    }\n",
              "\n",
              "    .dataframe tbody tr th {\n",
              "        vertical-align: top;\n",
              "    }\n",
              "\n",
              "    .dataframe thead th {\n",
              "        text-align: right;\n",
              "    }\n",
              "</style>\n",
              "<table border=\"1\" class=\"dataframe\">\n",
              "  <thead>\n",
              "    <tr style=\"text-align: right;\">\n",
              "      <th></th>\n",
              "      <th>online_order</th>\n",
              "      <th>book_table</th>\n",
              "      <th>rate</th>\n",
              "      <th>votes</th>\n",
              "      <th>location</th>\n",
              "      <th>rest_type</th>\n",
              "      <th>cuisines</th>\n",
              "      <th>cost_two</th>\n",
              "      <th>listed_in(type)</th>\n",
              "      <th>listed_in(city)</th>\n",
              "    </tr>\n",
              "  </thead>\n",
              "  <tbody>\n",
              "    <tr>\n",
              "      <th>0</th>\n",
              "      <td>Yes</td>\n",
              "      <td>Yes</td>\n",
              "      <td>5</td>\n",
              "      <td>775</td>\n",
              "      <td>Banashankari</td>\n",
              "      <td>Casual Dining</td>\n",
              "      <td>North Indian, Mughlai, Chinese</td>\n",
              "      <td>800</td>\n",
              "      <td>Buffet</td>\n",
              "      <td>Banashankari</td>\n",
              "    </tr>\n",
              "    <tr>\n",
              "      <th>1</th>\n",
              "      <td>Yes</td>\n",
              "      <td>No</td>\n",
              "      <td>5</td>\n",
              "      <td>787</td>\n",
              "      <td>Banashankari</td>\n",
              "      <td>Casual Dining</td>\n",
              "      <td>Chinese, North Indian, Thai</td>\n",
              "      <td>800</td>\n",
              "      <td>Buffet</td>\n",
              "      <td>Banashankari</td>\n",
              "    </tr>\n",
              "    <tr>\n",
              "      <th>2</th>\n",
              "      <td>Yes</td>\n",
              "      <td>No</td>\n",
              "      <td>4</td>\n",
              "      <td>918</td>\n",
              "      <td>Banashankari</td>\n",
              "      <td>Cafe, Casual Dining</td>\n",
              "      <td>Cafe, Mexican, Italian</td>\n",
              "      <td>800</td>\n",
              "      <td>Buffet</td>\n",
              "      <td>Banashankari</td>\n",
              "    </tr>\n",
              "    <tr>\n",
              "      <th>3</th>\n",
              "      <td>No</td>\n",
              "      <td>No</td>\n",
              "      <td>4</td>\n",
              "      <td>88</td>\n",
              "      <td>Banashankari</td>\n",
              "      <td>Quick Bites</td>\n",
              "      <td>South Indian, North Indian</td>\n",
              "      <td>300</td>\n",
              "      <td>Buffet</td>\n",
              "      <td>Banashankari</td>\n",
              "    </tr>\n",
              "    <tr>\n",
              "      <th>4</th>\n",
              "      <td>No</td>\n",
              "      <td>No</td>\n",
              "      <td>4</td>\n",
              "      <td>166</td>\n",
              "      <td>Basavanagudi</td>\n",
              "      <td>Casual Dining</td>\n",
              "      <td>North Indian, Rajasthani</td>\n",
              "      <td>600</td>\n",
              "      <td>Buffet</td>\n",
              "      <td>Banashankari</td>\n",
              "    </tr>\n",
              "  </tbody>\n",
              "</table>\n",
              "</div>"
            ],
            "text/plain": [
              "  online_order book_table  rate  votes      location            rest_type  \\\n",
              "0          Yes        Yes     5    775  Banashankari        Casual Dining   \n",
              "1          Yes         No     5    787  Banashankari        Casual Dining   \n",
              "2          Yes         No     4    918  Banashankari  Cafe, Casual Dining   \n",
              "3           No         No     4     88  Banashankari          Quick Bites   \n",
              "4           No         No     4    166  Basavanagudi        Casual Dining   \n",
              "\n",
              "                         cuisines  cost_two listed_in(type) listed_in(city)  \n",
              "0  North Indian, Mughlai, Chinese       800          Buffet    Banashankari  \n",
              "1     Chinese, North Indian, Thai       800          Buffet    Banashankari  \n",
              "2          Cafe, Mexican, Italian       800          Buffet    Banashankari  \n",
              "3      South Indian, North Indian       300          Buffet    Banashankari  \n",
              "4        North Indian, Rajasthani       600          Buffet    Banashankari  "
            ]
          },
          "metadata": {},
          "execution_count": 27
        }
      ],
      "metadata": {
        "colab": {
          "base_uri": "https://localhost:8080/",
          "height": 487
        },
        "id": "UfUvgWQhqCER",
        "outputId": "66e422d9-1e3b-4c7b-c25f-ef9c9f47b27a"
      }
    },
    {
      "cell_type": "code",
      "execution_count": 28,
      "source": [
        "data = data.rename(columns = {\"listed_in(type)\":\"type\", \"listed_in(city)\":\"city\"})"
      ],
      "outputs": [],
      "metadata": {}
    },
    {
      "cell_type": "code",
      "execution_count": 29,
      "source": [
        "data.cuisines"
      ],
      "outputs": [
        {
          "output_type": "execute_result",
          "data": {
            "text/plain": [
              "0                     North Indian, Mughlai, Chinese\n",
              "1                        Chinese, North Indian, Thai\n",
              "2                             Cafe, Mexican, Italian\n",
              "3                         South Indian, North Indian\n",
              "4                           North Indian, Rajasthani\n",
              "                            ...                     \n",
              "51705       North Indian, Continental, Mediterranean\n",
              "51707                                    Finger Food\n",
              "51708             Chinese, Continental, North Indian\n",
              "51711    Andhra, South Indian, Chinese, North Indian\n",
              "51715                                    Finger Food\n",
              "Name: cuisines, Length: 23358, dtype: object"
            ]
          },
          "metadata": {},
          "execution_count": 29
        }
      ],
      "metadata": {}
    },
    {
      "cell_type": "code",
      "execution_count": 30,
      "source": [
        "data.cuisines = data.cuisines.apply(lambda x: x.split(', '))"
      ],
      "outputs": [],
      "metadata": {}
    },
    {
      "cell_type": "code",
      "execution_count": 31,
      "source": [
        "cuisines_dict = {}\r\n",
        "\r\n",
        "for _, types in data.cuisines.iteritems():\r\n",
        "    for t in types:\r\n",
        "        if(t not in cuisines_dict):\r\n",
        "            cuisines_dict[t] = 1\r\n",
        "        elif(t in cuisines_dict):\r\n",
        "            cuisines_dict[t] += 1"
      ],
      "outputs": [],
      "metadata": {}
    },
    {
      "cell_type": "code",
      "execution_count": 32,
      "source": [
        "from collections import Counter"
      ],
      "outputs": [],
      "metadata": {}
    },
    {
      "cell_type": "code",
      "execution_count": 33,
      "source": [
        "top10 = Counter(cuisines_dict).most_common(10)\r\n",
        "top_cusines = []\r\n",
        "\r\n",
        "for i in top10:\r\n",
        "    top_cusines.append(i[0])\r\n",
        "\r\n",
        "top_cusines"
      ],
      "outputs": [
        {
          "output_type": "execute_result",
          "data": {
            "text/plain": [
              "['North Indian',\n",
              " 'Chinese',\n",
              " 'Continental',\n",
              " 'Cafe',\n",
              " 'Fast Food',\n",
              " 'South Indian',\n",
              " 'Italian',\n",
              " 'Desserts',\n",
              " 'Biryani',\n",
              " 'Beverages']"
            ]
          },
          "metadata": {},
          "execution_count": 33
        }
      ],
      "metadata": {}
    },
    {
      "cell_type": "code",
      "execution_count": 34,
      "source": [
        "def remove_unwanted_cusines(types, usines):\r\n",
        "    new_cusines = []\r\n",
        "    \r\n",
        "    for t in types:\r\n",
        "        if t in top_cusines:\r\n",
        "            new_cusines.append(t)\r\n",
        "    \r\n",
        "    new_cusines.sort()\r\n",
        "    sent = \",\".join(new_cusines)\r\n",
        "    \r\n",
        "    return sent"
      ],
      "outputs": [],
      "metadata": {}
    },
    {
      "cell_type": "code",
      "execution_count": 35,
      "source": [
        "#print(data.cuisines[1])\r\n",
        "#x = remove_unwanted_cusines(data.cuisines[1], top_cusines)\r\n",
        "#print(x)\r\n",
        "data.cuisines = data.cuisines.apply(lambda x: remove_unwanted_cusines(x, top_cusines))\r\n",
        "data.head()"
      ],
      "outputs": [
        {
          "output_type": "execute_result",
          "data": {
            "text/html": [
              "<div>\n",
              "<style scoped>\n",
              "    .dataframe tbody tr th:only-of-type {\n",
              "        vertical-align: middle;\n",
              "    }\n",
              "\n",
              "    .dataframe tbody tr th {\n",
              "        vertical-align: top;\n",
              "    }\n",
              "\n",
              "    .dataframe thead th {\n",
              "        text-align: right;\n",
              "    }\n",
              "</style>\n",
              "<table border=\"1\" class=\"dataframe\">\n",
              "  <thead>\n",
              "    <tr style=\"text-align: right;\">\n",
              "      <th></th>\n",
              "      <th>online_order</th>\n",
              "      <th>book_table</th>\n",
              "      <th>rate</th>\n",
              "      <th>votes</th>\n",
              "      <th>location</th>\n",
              "      <th>rest_type</th>\n",
              "      <th>cuisines</th>\n",
              "      <th>cost_two</th>\n",
              "      <th>type</th>\n",
              "      <th>city</th>\n",
              "    </tr>\n",
              "  </thead>\n",
              "  <tbody>\n",
              "    <tr>\n",
              "      <th>0</th>\n",
              "      <td>Yes</td>\n",
              "      <td>Yes</td>\n",
              "      <td>5</td>\n",
              "      <td>775</td>\n",
              "      <td>Banashankari</td>\n",
              "      <td>Casual Dining</td>\n",
              "      <td>Chinese,North Indian</td>\n",
              "      <td>800</td>\n",
              "      <td>Buffet</td>\n",
              "      <td>Banashankari</td>\n",
              "    </tr>\n",
              "    <tr>\n",
              "      <th>1</th>\n",
              "      <td>Yes</td>\n",
              "      <td>No</td>\n",
              "      <td>5</td>\n",
              "      <td>787</td>\n",
              "      <td>Banashankari</td>\n",
              "      <td>Casual Dining</td>\n",
              "      <td>Chinese,North Indian</td>\n",
              "      <td>800</td>\n",
              "      <td>Buffet</td>\n",
              "      <td>Banashankari</td>\n",
              "    </tr>\n",
              "    <tr>\n",
              "      <th>2</th>\n",
              "      <td>Yes</td>\n",
              "      <td>No</td>\n",
              "      <td>4</td>\n",
              "      <td>918</td>\n",
              "      <td>Banashankari</td>\n",
              "      <td>Cafe, Casual Dining</td>\n",
              "      <td>Cafe,Italian</td>\n",
              "      <td>800</td>\n",
              "      <td>Buffet</td>\n",
              "      <td>Banashankari</td>\n",
              "    </tr>\n",
              "    <tr>\n",
              "      <th>3</th>\n",
              "      <td>No</td>\n",
              "      <td>No</td>\n",
              "      <td>4</td>\n",
              "      <td>88</td>\n",
              "      <td>Banashankari</td>\n",
              "      <td>Quick Bites</td>\n",
              "      <td>North Indian,South Indian</td>\n",
              "      <td>300</td>\n",
              "      <td>Buffet</td>\n",
              "      <td>Banashankari</td>\n",
              "    </tr>\n",
              "    <tr>\n",
              "      <th>4</th>\n",
              "      <td>No</td>\n",
              "      <td>No</td>\n",
              "      <td>4</td>\n",
              "      <td>166</td>\n",
              "      <td>Basavanagudi</td>\n",
              "      <td>Casual Dining</td>\n",
              "      <td>North Indian</td>\n",
              "      <td>600</td>\n",
              "      <td>Buffet</td>\n",
              "      <td>Banashankari</td>\n",
              "    </tr>\n",
              "  </tbody>\n",
              "</table>\n",
              "</div>"
            ],
            "text/plain": [
              "  online_order book_table  rate  votes      location            rest_type  \\\n",
              "0          Yes        Yes     5    775  Banashankari        Casual Dining   \n",
              "1          Yes         No     5    787  Banashankari        Casual Dining   \n",
              "2          Yes         No     4    918  Banashankari  Cafe, Casual Dining   \n",
              "3           No         No     4     88  Banashankari          Quick Bites   \n",
              "4           No         No     4    166  Basavanagudi        Casual Dining   \n",
              "\n",
              "                    cuisines  cost_two    type          city  \n",
              "0       Chinese,North Indian       800  Buffet  Banashankari  \n",
              "1       Chinese,North Indian       800  Buffet  Banashankari  \n",
              "2               Cafe,Italian       800  Buffet  Banashankari  \n",
              "3  North Indian,South Indian       300  Buffet  Banashankari  \n",
              "4               North Indian       600  Buffet  Banashankari  "
            ]
          },
          "metadata": {},
          "execution_count": 35
        }
      ],
      "metadata": {}
    },
    {
      "cell_type": "code",
      "execution_count": 36,
      "source": [
        "cuisines_dummy = data.cuisines.str.get_dummies(sep=',')\r\n",
        "data.drop(columns='cuisines', inplace = True)\r\n",
        "data = pd.concat([data,cuisines_dummy],axis=1)"
      ],
      "outputs": [],
      "metadata": {}
    },
    {
      "cell_type": "code",
      "execution_count": 37,
      "source": [
        "#restType_dummy = pd.DataFrame(pd.get_dummies(data['rest_type'], drop_first = True))\r\n",
        "\r\n",
        "restType_dummy = data.rest_type.str.get_dummies(sep=', ')\r\n",
        "data.drop(columns='rest_type', inplace = True)\r\n",
        "data = pd.concat([data,restType_dummy],axis=1)"
      ],
      "outputs": [],
      "metadata": {}
    },
    {
      "cell_type": "code",
      "execution_count": 38,
      "source": [
        "data.head()"
      ],
      "outputs": [
        {
          "output_type": "execute_result",
          "data": {
            "text/html": [
              "<div>\n",
              "<style scoped>\n",
              "    .dataframe tbody tr th:only-of-type {\n",
              "        vertical-align: middle;\n",
              "    }\n",
              "\n",
              "    .dataframe tbody tr th {\n",
              "        vertical-align: top;\n",
              "    }\n",
              "\n",
              "    .dataframe thead th {\n",
              "        text-align: right;\n",
              "    }\n",
              "</style>\n",
              "<table border=\"1\" class=\"dataframe\">\n",
              "  <thead>\n",
              "    <tr style=\"text-align: right;\">\n",
              "      <th></th>\n",
              "      <th>online_order</th>\n",
              "      <th>book_table</th>\n",
              "      <th>rate</th>\n",
              "      <th>votes</th>\n",
              "      <th>location</th>\n",
              "      <th>cost_two</th>\n",
              "      <th>type</th>\n",
              "      <th>city</th>\n",
              "      <th>Beverages</th>\n",
              "      <th>Biryani</th>\n",
              "      <th>...</th>\n",
              "      <th>Food Truck</th>\n",
              "      <th>Irani Cafee</th>\n",
              "      <th>Kiosk</th>\n",
              "      <th>Lounge</th>\n",
              "      <th>Mess</th>\n",
              "      <th>Microbrewery</th>\n",
              "      <th>Pub</th>\n",
              "      <th>Quick Bites</th>\n",
              "      <th>Sweet Shop</th>\n",
              "      <th>Takeaway</th>\n",
              "    </tr>\n",
              "  </thead>\n",
              "  <tbody>\n",
              "    <tr>\n",
              "      <th>0</th>\n",
              "      <td>Yes</td>\n",
              "      <td>Yes</td>\n",
              "      <td>5</td>\n",
              "      <td>775</td>\n",
              "      <td>Banashankari</td>\n",
              "      <td>800</td>\n",
              "      <td>Buffet</td>\n",
              "      <td>Banashankari</td>\n",
              "      <td>0</td>\n",
              "      <td>0</td>\n",
              "      <td>...</td>\n",
              "      <td>0</td>\n",
              "      <td>0</td>\n",
              "      <td>0</td>\n",
              "      <td>0</td>\n",
              "      <td>0</td>\n",
              "      <td>0</td>\n",
              "      <td>0</td>\n",
              "      <td>0</td>\n",
              "      <td>0</td>\n",
              "      <td>0</td>\n",
              "    </tr>\n",
              "    <tr>\n",
              "      <th>1</th>\n",
              "      <td>Yes</td>\n",
              "      <td>No</td>\n",
              "      <td>5</td>\n",
              "      <td>787</td>\n",
              "      <td>Banashankari</td>\n",
              "      <td>800</td>\n",
              "      <td>Buffet</td>\n",
              "      <td>Banashankari</td>\n",
              "      <td>0</td>\n",
              "      <td>0</td>\n",
              "      <td>...</td>\n",
              "      <td>0</td>\n",
              "      <td>0</td>\n",
              "      <td>0</td>\n",
              "      <td>0</td>\n",
              "      <td>0</td>\n",
              "      <td>0</td>\n",
              "      <td>0</td>\n",
              "      <td>0</td>\n",
              "      <td>0</td>\n",
              "      <td>0</td>\n",
              "    </tr>\n",
              "    <tr>\n",
              "      <th>2</th>\n",
              "      <td>Yes</td>\n",
              "      <td>No</td>\n",
              "      <td>4</td>\n",
              "      <td>918</td>\n",
              "      <td>Banashankari</td>\n",
              "      <td>800</td>\n",
              "      <td>Buffet</td>\n",
              "      <td>Banashankari</td>\n",
              "      <td>0</td>\n",
              "      <td>0</td>\n",
              "      <td>...</td>\n",
              "      <td>0</td>\n",
              "      <td>0</td>\n",
              "      <td>0</td>\n",
              "      <td>0</td>\n",
              "      <td>0</td>\n",
              "      <td>0</td>\n",
              "      <td>0</td>\n",
              "      <td>0</td>\n",
              "      <td>0</td>\n",
              "      <td>0</td>\n",
              "    </tr>\n",
              "    <tr>\n",
              "      <th>3</th>\n",
              "      <td>No</td>\n",
              "      <td>No</td>\n",
              "      <td>4</td>\n",
              "      <td>88</td>\n",
              "      <td>Banashankari</td>\n",
              "      <td>300</td>\n",
              "      <td>Buffet</td>\n",
              "      <td>Banashankari</td>\n",
              "      <td>0</td>\n",
              "      <td>0</td>\n",
              "      <td>...</td>\n",
              "      <td>0</td>\n",
              "      <td>0</td>\n",
              "      <td>0</td>\n",
              "      <td>0</td>\n",
              "      <td>0</td>\n",
              "      <td>0</td>\n",
              "      <td>0</td>\n",
              "      <td>1</td>\n",
              "      <td>0</td>\n",
              "      <td>0</td>\n",
              "    </tr>\n",
              "    <tr>\n",
              "      <th>4</th>\n",
              "      <td>No</td>\n",
              "      <td>No</td>\n",
              "      <td>4</td>\n",
              "      <td>166</td>\n",
              "      <td>Basavanagudi</td>\n",
              "      <td>600</td>\n",
              "      <td>Buffet</td>\n",
              "      <td>Banashankari</td>\n",
              "      <td>0</td>\n",
              "      <td>0</td>\n",
              "      <td>...</td>\n",
              "      <td>0</td>\n",
              "      <td>0</td>\n",
              "      <td>0</td>\n",
              "      <td>0</td>\n",
              "      <td>0</td>\n",
              "      <td>0</td>\n",
              "      <td>0</td>\n",
              "      <td>0</td>\n",
              "      <td>0</td>\n",
              "      <td>0</td>\n",
              "    </tr>\n",
              "  </tbody>\n",
              "</table>\n",
              "<p>5 rows × 39 columns</p>\n",
              "</div>"
            ],
            "text/plain": [
              "  online_order book_table  rate  votes      location  cost_two    type  \\\n",
              "0          Yes        Yes     5    775  Banashankari       800  Buffet   \n",
              "1          Yes         No     5    787  Banashankari       800  Buffet   \n",
              "2          Yes         No     4    918  Banashankari       800  Buffet   \n",
              "3           No         No     4     88  Banashankari       300  Buffet   \n",
              "4           No         No     4    166  Basavanagudi       600  Buffet   \n",
              "\n",
              "           city  Beverages  Biryani  ...  Food Truck  Irani Cafee  Kiosk  \\\n",
              "0  Banashankari          0        0  ...           0            0      0   \n",
              "1  Banashankari          0        0  ...           0            0      0   \n",
              "2  Banashankari          0        0  ...           0            0      0   \n",
              "3  Banashankari          0        0  ...           0            0      0   \n",
              "4  Banashankari          0        0  ...           0            0      0   \n",
              "\n",
              "   Lounge  Mess  Microbrewery  Pub  Quick Bites  Sweet Shop  Takeaway  \n",
              "0       0     0             0    0            0           0         0  \n",
              "1       0     0             0    0            0           0         0  \n",
              "2       0     0             0    0            0           0         0  \n",
              "3       0     0             0    0            1           0         0  \n",
              "4       0     0             0    0            0           0         0  \n",
              "\n",
              "[5 rows x 39 columns]"
            ]
          },
          "metadata": {},
          "execution_count": 38
        }
      ],
      "metadata": {}
    },
    {
      "cell_type": "code",
      "execution_count": 39,
      "source": [
        "from sklearn.preprocessing import LabelEncoder\r\n",
        "le = LabelEncoder()\r\n",
        "\r\n",
        "data.location = le.fit_transform(data.location)\r\n",
        "\r\n",
        "data.online_order = le.fit_transform(data.online_order)\r\n",
        "data.book_table = le.fit_transform(data.book_table)\r\n",
        "data.type = le.fit_transform(data.type)\r\n",
        "data.city = le.fit_transform(data.city)"
      ],
      "outputs": [],
      "metadata": {
        "id": "xuDrY030qW4v"
      }
    },
    {
      "cell_type": "code",
      "execution_count": 41,
      "source": [
        "plt.figure(figsize=(20,10))\r\n",
        "sns.countplot(x = data['online_order'], hue = data['rate'], palette= 'Set1')\r\n",
        "plt.title(\"Distribution of restaurant rating over table booking facility\")\r\n",
        "plt.show()\r\n",
        "\r\n",
        "# check how to rating affects if the restaurant has table booking or not. "
      ],
      "outputs": [
        {
          "output_type": "display_data",
          "data": {
            "image/png": "[encoded data removed]",
            "text/plain": [
              "<Figure size 1440x720 with 1 Axes>"
            ]
          },
          "metadata": {
            "needs_background": "light"
          }
        }
      ],
      "metadata": {
        "id": "bhcxCqkCnqQG",
        "colab": {
          "base_uri": "https://localhost:8080/",
          "height": 502
        },
        "outputId": "035eca54-df21-4c4c-e92d-13c032ce2484"
      }
    },
    {
      "cell_type": "code",
      "execution_count": 42,
      "source": [
        "plt.figure(figsize=(14,10))\r\n",
        "sns.set_style(\"darkgrid\")\r\n",
        "sns.jointplot(x = 'rate', y = 'votes', data=data, color = 'darkgreen',height = 8, ratio = 4)\r\n",
        "#Checking whether the online order facility impacts the rating of the restaurants"
      ],
      "outputs": [
        {
          "output_type": "execute_result",
          "data": {
            "text/plain": [
              "<seaborn.axisgrid.JointGrid at 0x273adc82488>"
            ]
          },
          "metadata": {},
          "execution_count": 42
        },
        {
          "output_type": "display_data",
          "data": {
            "text/plain": [
              "<Figure size 1008x720 with 0 Axes>"
            ]
          },
          "metadata": {}
        },
        {
          "output_type": "display_data",
          "data": {
            "image/png": "[encoded data removed]",
            "text/plain": [
              "<Figure size 576x576 with 3 Axes>"
            ]
          },
          "metadata": {}
        }
      ],
      "metadata": {
        "id": "GEsPbVcbkdKC",
        "colab": {
          "base_uri": "https://localhost:8080/",
          "height": 620
        },
        "outputId": "9202da56-8d69-4973-a742-89701c3f5d19"
      }
    },
    {
      "cell_type": "code",
      "execution_count": 43,
      "source": [
        "\r\n",
        "sns.countplot(x = data['rate'], hue = data['online_order'], palette= 'Set1')\r\n",
        "plt.title(\"Distribution of restaurant rating over online order facility\")\r\n",
        "plt.show()"
      ],
      "outputs": [
        {
          "output_type": "display_data",
          "data": {
            "image/png": "[encoded data removed]",
            "text/plain": [
              "<Figure size 432x288 with 1 Axes>"
            ]
          },
          "metadata": {}
        }
      ],
      "metadata": {}
    },
    {
      "cell_type": "code",
      "execution_count": 44,
      "source": [
        "data.drop(columns = [\"city\"], inplace=True)"
      ],
      "outputs": [],
      "metadata": {}
    },
    {
      "cell_type": "markdown",
      "source": [
        "### Model Building"
      ],
      "metadata": {
        "id": "_H3qt7XIsrn9"
      }
    },
    {
      "cell_type": "code",
      "execution_count": 45,
      "source": [
        "data = data.astype(\"int64\")"
      ],
      "outputs": [],
      "metadata": {}
    },
    {
      "cell_type": "code",
      "execution_count": 46,
      "source": [
        "# Splitting the features into independent and dependent variables\r\n",
        "\r\n",
        "x = data.drop(['rate'], axis = 1)\r\n",
        "y = data['rate']"
      ],
      "outputs": [],
      "metadata": {
        "id": "YihaYGKxoxti"
      }
    },
    {
      "cell_type": "code",
      "execution_count": 47,
      "source": [
        "#Spliting data into test and train\r\n",
        "\r\n",
        "from sklearn import metrics\r\n",
        "from sklearn.model_selection import train_test_split\r\n",
        "from sklearn.metrics import r2_score\r\n",
        "x_train, x_test, y_train, y_test = train_test_split(x,y,test_size=0.20)"
      ],
      "outputs": [],
      "metadata": {
        "id": "laW_APCRsqnw"
      }
    },
    {
      "cell_type": "markdown",
      "source": [
        "Decision Tree Regressor"
      ],
      "metadata": {
        "id": "ySYbP3NyucKT"
      }
    },
    {
      "cell_type": "code",
      "execution_count": 57,
      "source": [
        "from sklearn.tree import DecisionTreeRegressor\r\n",
        "# find accuracy, precision, recall:\r\n",
        "from sklearn.metrics import confusion_matrix,classification_report\r\n",
        "\r\n",
        "DTree=DecisionTreeRegressor(min_samples_leaf=.0001)\r\n",
        "DTree.fit(x_train,y_train)\r\n",
        "y_predict=DTree.predict(x_test)\r\n",
        "\r\n",
        "y_predict = y_predict.round(0)\r\n",
        "y_predict.astype(\"int64\")\r\n",
        "\r\n",
        "print(classification_report(y_predict,y_test))"
      ],
      "outputs": [
        {
          "output_type": "stream",
          "name": "stdout",
          "text": [
            "              precision    recall  f1-score   support\n",
            "\n",
            "         2.0       0.50      1.00      0.67         2\n",
            "         3.0       0.74      0.80      0.77       274\n",
            "         4.0       0.96      0.93      0.94      2630\n",
            "         5.0       0.94      0.97      0.95      1766\n",
            "\n",
            "    accuracy                           0.94      4672\n",
            "   macro avg       0.79      0.92      0.83      4672\n",
            "weighted avg       0.94      0.94      0.94      4672\n",
            "\n"
          ]
        }
      ],
      "metadata": {
        "id": "y5QAJI3GuODP"
      }
    },
    {
      "cell_type": "code",
      "execution_count": 58,
      "source": [
        "confusion = confusion_matrix(y_predict,y_test)\r\n",
        "print(confusion)"
      ],
      "outputs": [
        {
          "output_type": "stream",
          "name": "stdout",
          "text": [
            "[[   2    0    0    0]\n",
            " [   0  218   55    1]\n",
            " [   2   74 2438  116]\n",
            " [   0    1   47 1718]]\n"
          ]
        }
      ],
      "metadata": {}
    },
    {
      "cell_type": "code",
      "execution_count": 59,
      "source": [
        "# Creating a dataframe for a array-formatted Confusion matrix,so it will be easy for plotting.\r\n",
        "cm_df = pd.DataFrame(confusion,\r\n",
        "                     index = ['1','2','3','4'], \r\n",
        "                     columns = ['1','2','3','4'])"
      ],
      "outputs": [],
      "metadata": {}
    },
    {
      "cell_type": "markdown",
      "source": [
        "Random Forest Regressor"
      ],
      "metadata": {
        "id": "5mZaxU_A-L3x"
      }
    },
    {
      "cell_type": "code",
      "execution_count": 61,
      "source": [
        "#Preparing Random Forest Regression\r\n",
        "from sklearn.ensemble import RandomForestRegressor\r\n",
        "RForest=RandomForestRegressor(n_estimators=500,random_state=329,min_samples_leaf=.0001)\r\n",
        "RForest.fit(x_train,y_train)\r\n",
        "y_predict=RForest.predict(x_test)\r\n",
        "\r\n",
        "y_predict = y_predict.round(0)\r\n",
        "y_predict.astype(\"int64\")\r\n",
        "\r\n",
        "print(classification_report(y_predict,y_test))"
      ],
      "outputs": [
        {
          "output_type": "stream",
          "name": "stdout",
          "text": [
            "              precision    recall  f1-score   support\n",
            "\n",
            "         2.0       0.50      1.00      0.67         2\n",
            "         3.0       0.76      0.99      0.86       225\n",
            "         4.0       0.99      0.94      0.96      2678\n",
            "         5.0       0.95      0.99      0.97      1767\n",
            "\n",
            "    accuracy                           0.96      4672\n",
            "   macro avg       0.80      0.98      0.86      4672\n",
            "weighted avg       0.96      0.96      0.96      4672\n",
            "\n"
          ]
        }
      ],
      "metadata": {
        "id": "3T-fJDzm8aDm"
      }
    },
    {
      "cell_type": "code",
      "execution_count": 62,
      "source": [
        "confusion_matrix(y_predict,y_test)"
      ],
      "outputs": [
        {
          "output_type": "execute_result",
          "data": {
            "text/plain": [
              "array([[   2,    0,    0,    0],\n",
              "       [   0,  222,    3,    0],\n",
              "       [   2,   71, 2514,   91],\n",
              "       [   0,    0,   23, 1744]], dtype=int64)"
            ]
          },
          "metadata": {},
          "execution_count": 62
        }
      ],
      "metadata": {}
    },
    {
      "cell_type": "markdown",
      "source": [
        "Extra Trees Classifier"
      ],
      "metadata": {
        "id": "vH5InAt0bAzV"
      }
    },
    {
      "cell_type": "code",
      "execution_count": 63,
      "source": [
        "#Fit Extra Trees Classifier with hyper parameters\r\n",
        "etc = ExtraTreesClassifier(random_state=2, n_estimators=1000 )\r\n",
        "etc.fit(x_train, y_train)\r\n",
        "  \r\n",
        "# make prediction using our test data and model\r\n",
        "y_pred_etc = etc.predict(x_test)\r\n",
        "#y_prob_etc = etc.predict_proba(X_test)[:, 1]\r\n",
        " \r\n",
        "# Comparing our prediciton to response values\r\n",
        "y_predict = y_predict.round(0)\r\n",
        "y_predict.astype(\"int64\")\r\n",
        "\r\n",
        "print(classification_report(y_predict,y_test))"
      ],
      "outputs": [
        {
          "output_type": "stream",
          "name": "stdout",
          "text": [
            "              precision    recall  f1-score   support\n",
            "\n",
            "         2.0       0.50      1.00      0.67         2\n",
            "         3.0       0.76      0.99      0.86       225\n",
            "         4.0       0.99      0.94      0.96      2678\n",
            "         5.0       0.95      0.99      0.97      1767\n",
            "\n",
            "    accuracy                           0.96      4672\n",
            "   macro avg       0.80      0.98      0.86      4672\n",
            "weighted avg       0.96      0.96      0.96      4672\n",
            "\n"
          ]
        }
      ],
      "metadata": {
        "id": "M8aWxNWka_HG"
      }
    },
    {
      "cell_type": "code",
      "execution_count": 64,
      "source": [
        "confusion_matrix(y_predict,y_test)"
      ],
      "outputs": [
        {
          "output_type": "execute_result",
          "data": {
            "text/plain": [
              "array([[   2,    0,    0,    0],\n",
              "       [   0,  222,    3,    0],\n",
              "       [   2,   71, 2514,   91],\n",
              "       [   0,    0,   23, 1744]], dtype=int64)"
            ]
          },
          "metadata": {},
          "execution_count": 64
        }
      ],
      "metadata": {}
    },
    {
      "cell_type": "markdown",
      "source": [
        "Extra Tree Regression"
      ],
      "metadata": {
        "id": "qCMXtLWfAj3o"
      }
    },
    {
      "cell_type": "code",
      "execution_count": 65,
      "source": [
        "#Preparing Extra Tree Regression\r\n",
        "from sklearn.ensemble import  ExtraTreesRegressor\r\n",
        "ETree=ExtraTreesRegressor(n_estimators = 100)\r\n",
        "ETree.fit(x_train,y_train)\r\n",
        "y_predict=ETree.predict(x_test)\r\n",
        "\r\n",
        "y_predict = y_predict.round(0)\r\n",
        "y_predict.astype(\"int64\")\r\n",
        "\r\n",
        "print(classification_report(y_predict,y_test))"
      ],
      "outputs": [
        {
          "output_type": "stream",
          "name": "stdout",
          "text": [
            "              precision    recall  f1-score   support\n",
            "\n",
            "         2.0       0.50      1.00      0.67         2\n",
            "         3.0       0.85      0.96      0.90       258\n",
            "         4.0       0.99      0.96      0.98      2599\n",
            "         5.0       0.97      0.99      0.98      1813\n",
            "\n",
            "    accuracy                           0.97      4672\n",
            "   macro avg       0.83      0.98      0.88      4672\n",
            "weighted avg       0.97      0.97      0.97      4672\n",
            "\n"
          ]
        }
      ],
      "metadata": {
        "id": "IHcLvmShAZgd"
      }
    },
    {
      "cell_type": "code",
      "execution_count": 66,
      "source": [
        "confusion_matrix(y_predict,y_test)"
      ],
      "outputs": [
        {
          "output_type": "execute_result",
          "data": {
            "text/plain": [
              "array([[   2,    0,    0,    0],\n",
              "       [   0,  248,   10,    0],\n",
              "       [   2,   44, 2506,   47],\n",
              "       [   0,    1,   24, 1788]], dtype=int64)"
            ]
          },
          "metadata": {},
          "execution_count": 66
        }
      ],
      "metadata": {
        "id": "tpDDf7E2A6uq"
      }
    },
    {
      "cell_type": "markdown",
      "source": [
        "Gradient Boosting Regressor"
      ],
      "metadata": {
        "id": "EyXg5WgEBXMR"
      }
    },
    {
      "cell_type": "code",
      "execution_count": 67,
      "source": [
        "from sklearn.ensemble import GradientBoostingRegressor\r\n",
        "\r\n",
        "gbr = GradientBoostingRegressor()\r\n",
        "gbr.fit(x_train, y_train)\r\n",
        "\r\n",
        "y_predict=gbr.predict(x_test)\r\n",
        "\r\n",
        "y_predict = y_predict.round(0)\r\n",
        "y_predict.astype(\"int64\")\r\n",
        "\r\n",
        "print(classification_report(y_predict,y_test))"
      ],
      "outputs": [
        {
          "output_type": "stream",
          "name": "stdout",
          "text": [
            "              precision    recall  f1-score   support\n",
            "\n",
            "         2.0       0.00      0.00      0.00         0\n",
            "         3.0       0.00      0.00      0.00         1\n",
            "         4.0       0.90      0.72      0.80      3163\n",
            "         5.0       0.69      0.83      0.75      1508\n",
            "\n",
            "    accuracy                           0.76      4672\n",
            "   macro avg       0.40      0.39      0.39      4672\n",
            "weighted avg       0.83      0.76      0.79      4672\n",
            "\n"
          ]
        },
        {
          "output_type": "stream",
          "name": "stderr",
          "text": [
            "C:\\Users\\Vithyashagar\\anaconda3\\envs\\venev\\lib\\site-packages\\sklearn\\metrics\\_classification.py:1248: UndefinedMetricWarning:\n",
            "\n",
            "Recall and F-score are ill-defined and being set to 0.0 in labels with no true samples. Use `zero_division` parameter to control this behavior.\n",
            "\n",
            "C:\\Users\\Vithyashagar\\anaconda3\\envs\\venev\\lib\\site-packages\\sklearn\\metrics\\_classification.py:1248: UndefinedMetricWarning:\n",
            "\n",
            "Recall and F-score are ill-defined and being set to 0.0 in labels with no true samples. Use `zero_division` parameter to control this behavior.\n",
            "\n",
            "C:\\Users\\Vithyashagar\\anaconda3\\envs\\venev\\lib\\site-packages\\sklearn\\metrics\\_classification.py:1248: UndefinedMetricWarning:\n",
            "\n",
            "Recall and F-score are ill-defined and being set to 0.0 in labels with no true samples. Use `zero_division` parameter to control this behavior.\n",
            "\n"
          ]
        }
      ],
      "metadata": {
        "id": "wNo1pU5qBVE3"
      }
    },
    {
      "cell_type": "markdown",
      "source": [
        "XGBRegressor"
      ],
      "metadata": {
        "id": "ePuogQt2CHjt"
      }
    }
  ]
}